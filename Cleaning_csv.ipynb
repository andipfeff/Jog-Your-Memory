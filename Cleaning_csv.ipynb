{
 "cells": [
  {
   "cell_type": "code",
   "execution_count": 1,
   "id": "90f2beef-dcc7-4164-bb4b-5cde5bf77087",
   "metadata": {},
   "outputs": [],
   "source": [
    "import pandas as pd\n",
    "import numpy as np\n",
    "import matplotlib as plt"
   ]
  },
  {
   "cell_type": "code",
   "execution_count": 2,
   "id": "fe759493-4562-4303-b9e2-c23e9765e96e",
   "metadata": {},
   "outputs": [],
   "source": [
    "data_to_load = \"Resources/National_Parks_Kaggle_Data.csv\"\n",
    "trail_data = pd.read_csv(data_to_load)"
   ]
  },
  {
   "cell_type": "code",
   "execution_count": null,
   "id": "1257903c-30f7-451a-8116-cf2929991c3a",
   "metadata": {
    "tags": []
   },
   "outputs": [],
   "source": [
    "trail_data"
   ]
  },
  {
   "cell_type": "markdown",
   "id": "ee6a31a5-3ee6-4ea7-b240-f433dcf66f03",
   "metadata": {},
   "source": [
    "# Joe-Separate Columns for features and activities"
   ]
  },
  {
   "cell_type": "markdown",
   "id": "87d1b2ba-5c2f-4038-b1ff-6d7b1d56b395",
   "metadata": {},
   "source": [
    "## Features Column"
   ]
  },
  {
   "cell_type": "code",
   "execution_count": null,
   "id": "2d3face8-33ac-47df-b3b5-8aebdf5c4237",
   "metadata": {},
   "outputs": [],
   "source": [
    "#set up new df with strings in features and activities column and separate the string by comma.\n",
    "trail_data_2 = trail_data.copy()\n",
    "trail_data_2['features']=trail_data_2['features'].str.split(\",\")"
   ]
  },
  {
   "cell_type": "markdown",
   "id": "b5b8ff33-4dc8-4759-92ea-c220a21ebfca",
   "metadata": {},
   "source": [
    "### Get Unique Values for features column"
   ]
  },
  {
   "cell_type": "code",
   "execution_count": null,
   "id": "4b099847-44d5-4c2f-a1f7-c1d5411a4884",
   "metadata": {
    "tags": []
   },
   "outputs": [],
   "source": [
    "trail_data_2"
   ]
  },
  {
   "cell_type": "code",
   "execution_count": null,
   "id": "e2547714-bd38-4131-bd7e-b80e55eadc33",
   "metadata": {},
   "outputs": [],
   "source": [
    "#loop through each row of the features column and create a list for each item that is separated by a comma\n",
    "list_1 = []\n",
    "for i in range(trail_data_2.shape[0]):\n",
    "    for j in trail_data_2['features'][i]:\n",
    "        list_1.append(j)"
   ]
  },
  {
   "cell_type": "code",
   "execution_count": null,
   "id": "9a047c24-53ca-402a-9717-1ca590cc1ae8",
   "metadata": {
    "tags": []
   },
   "outputs": [],
   "source": [
    "#list_1\n",
    "#create list with unique values\n",
    "list_1_unique=list(set(list_1))\n",
    "list_1_unique"
   ]
  },
  {
   "cell_type": "code",
   "execution_count": null,
   "id": "afd67982-d394-4281-958e-b2930101055f",
   "metadata": {
    "tags": []
   },
   "outputs": [],
   "source": [
    "# clean the the unqiue list I had issues adding each item to a list for a for loop so I just did this for now\n",
    "list_2 = [x.strip(\"]\") for x in list_1_unique]\n",
    "list_3 = [x.strip(\"[\") for x in list_2]\n",
    "list_4 = [x.strip(\" \") for x in list_3]\n",
    "list_5 = [x.strip(\"'\") for x in list_4]\n",
    "list_6 = [x.strip('\"') for x in list_5]"
   ]
  },
  {
   "cell_type": "code",
   "execution_count": null,
   "id": "eeebffdb-330b-459d-9b85-f05d3091219c",
   "metadata": {
    "tags": []
   },
   "outputs": [],
   "source": [
    "#get each unique feature\n",
    "unique_features = list(set(list_6))\n",
    "unique_features"
   ]
  },
  {
   "cell_type": "code",
   "execution_count": null,
   "id": "7ffe5cad-5cbf-4092-ab1c-b16131b48029",
   "metadata": {
    "tags": []
   },
   "outputs": [],
   "source": [
    "# Create a dictionary for each unique value to be stored as a key\n",
    "unique_dict = {}\n",
    "for i in unique_features:\n",
    "    unique_dict[i] = None\n",
    "unique_dict"
   ]
  },
  {
   "cell_type": "markdown",
   "id": "d1817b97-5b80-4d48-9b12-440e4161981f",
   "metadata": {},
   "source": [
    "### Separate each unique value and create a new dataframe to store boolean values"
   ]
  },
  {
   "cell_type": "code",
   "execution_count": null,
   "id": "03533fea-ccc2-4583-8641-e60ae491984d",
   "metadata": {
    "tags": []
   },
   "outputs": [],
   "source": [
    "# The following was used to check to see if each item in column features is a string\n",
    "# for i, l in enumerate(trail_data[\"features\"]):\n",
    "#     print(\"list\",i,\"is\",type(l))"
   ]
  },
  {
   "cell_type": "code",
   "execution_count": null,
   "id": "a57c77e3-e298-4b59-93c6-be9fd200475c",
   "metadata": {},
   "outputs": [],
   "source": [
    "#convert each cell in features column to list\n",
    "trail_data[\"features\"] = trail_data[\"features\"].apply(eval)"
   ]
  },
  {
   "cell_type": "code",
   "execution_count": null,
   "id": "2684c51b-74d9-4378-a53c-c34d4a95ff3f",
   "metadata": {},
   "outputs": [],
   "source": [
    "# this is a function i found online to help with my issue of separating the columns. It wasnt quite fully explained at first. I needed to create a dicitionary with keys for each column name for the second argument in the function\n",
    "def boolean_df(item_lists,unique_items):\n",
    "# Create empty dict\n",
    "    bool_dict = {}\n",
    "    \n",
    "    # Loop through all the tags\n",
    "    for i, item in enumerate(unique_items):\n",
    "        \n",
    "        # Apply boolean mask\n",
    "        bool_dict[item] = item_lists.apply(lambda x: item in x)\n",
    "            \n",
    "    # Return the results as a dataframe\n",
    "    return pd.DataFrame(bool_dict)\n",
    "   "
   ]
  },
  {
   "cell_type": "code",
   "execution_count": null,
   "id": "e6e6cfa7-7cb0-4c73-a26f-4fe2c28af780",
   "metadata": {
    "tags": []
   },
   "outputs": [],
   "source": [
    "# Use the function above to create a new data fram containing a row for each unique value that was discovered earlier\n",
    "trail_data_boolean_features = boolean_df(trail_data[\"features\"],unique_dict.keys())\n",
    "trail_data_boolean_features"
   ]
  },
  {
   "cell_type": "code",
   "execution_count": null,
   "id": "c8643602-be5b-4dbf-8397-2d7713f7d4a3",
   "metadata": {
    "tags": []
   },
   "outputs": [],
   "source": [
    "#concatenate the original trail_data dataframe with the new boolean dataframe\n",
    "new_df = pd.concat([trail_data, trail_data_boolean_features], axis = 1)\n",
    "new_df.head()"
   ]
  },
  {
   "cell_type": "markdown",
   "id": "05ba9a9d-ed6c-4c4d-ae9c-9a00513ddde6",
   "metadata": {},
   "source": [
    "## Activities Column"
   ]
  },
  {
   "cell_type": "markdown",
   "id": "f0809a8b-96eb-4514-a41d-2069b9dd4a5c",
   "metadata": {},
   "source": [
    "### Get Unique values for each activity listed in the Activities Column"
   ]
  },
  {
   "cell_type": "code",
   "execution_count": null,
   "id": "62d2bd01-cc74-4492-b530-f91fe1116bd3",
   "metadata": {},
   "outputs": [],
   "source": [
    "# Separate the string in the activites column by comma\n",
    "trail_data_2['activities']=trail_data_2['activities'].str.split(\",\")"
   ]
  },
  {
   "cell_type": "code",
   "execution_count": null,
   "id": "b527bd55-3700-4da9-9709-aba338c53a41",
   "metadata": {},
   "outputs": [],
   "source": [
    "#loop through each row of the features column and create a list for each item that is separated by a comma\n",
    "list_1_activities = []\n",
    "for i in range(trail_data_2.shape[0]):\n",
    "    for j in trail_data_2['activities'][i]:\n",
    "        list_1_activities.append(j)"
   ]
  },
  {
   "cell_type": "code",
   "execution_count": null,
   "id": "de8335ae-3e6e-48b9-8c9c-d47d3722b34d",
   "metadata": {
    "tags": []
   },
   "outputs": [],
   "source": [
    "#create list with unique values\n",
    "list_1_unique_activities=list(set(list_1_activities))\n",
    "list_1_unique_activities"
   ]
  },
  {
   "cell_type": "code",
   "execution_count": null,
   "id": "1aadb15a-804d-4cd7-801e-d3fd5adb8f02",
   "metadata": {},
   "outputs": [],
   "source": [
    "# remove unwanted characters from this list\n",
    "list_2_a = [x.strip(\"]\") for x in list_1_unique_activities]\n",
    "list_3_a = [x.strip(\"[\") for x in list_2_a]\n",
    "list_4_a = [x.strip(\" \") for x in list_3_a]\n",
    "list_5_a = [x.strip(\"'\") for x in list_4_a]\n",
    "list_6_a = [x.strip('\"') for x in list_5_a]"
   ]
  },
  {
   "cell_type": "code",
   "execution_count": null,
   "id": "9e75401d-e422-486a-a924-fcb46ed8c74f",
   "metadata": {
    "tags": []
   },
   "outputs": [],
   "source": [
    "#get each unique activity\n",
    "unique_features_a = list(set(list_6_a))\n",
    "unique_features_a"
   ]
  },
  {
   "cell_type": "code",
   "execution_count": null,
   "id": "b5a45a80-f832-4e58-896f-71bb58698210",
   "metadata": {
    "tags": []
   },
   "outputs": [],
   "source": [
    "# Create a dictionary for each unique value to be stored as a key\n",
    "unique_dict_a = {}\n",
    "for i in unique_features_a:\n",
    "    unique_dict_a[i] = None\n",
    "unique_dict_a"
   ]
  },
  {
   "cell_type": "markdown",
   "id": "fed4d401-2d1a-4ebe-8e31-ce1800ce9cf5",
   "metadata": {},
   "source": [
    "### Separate each unique value and create a new dataframe to store boolean values"
   ]
  },
  {
   "cell_type": "code",
   "execution_count": null,
   "id": "5ae8ce94-848c-4bf1-b3f3-0be865b82a1e",
   "metadata": {},
   "outputs": [],
   "source": [
    "#convert each cell in activities column to list\n",
    "trail_data[\"activities\"] = trail_data[\"activities\"].apply(eval)"
   ]
  },
  {
   "cell_type": "code",
   "execution_count": null,
   "id": "02171f6a-2781-497f-b5b6-53a10214f949",
   "metadata": {
    "tags": []
   },
   "outputs": [],
   "source": [
    "# Use the function above to create a new data fram containing a row for each unique value that was discovered earlier\n",
    "trail_data_boolean_activities = boolean_df(trail_data[\"activities\"],unique_dict_a.keys())\n",
    "trail_data_boolean_activities.head()"
   ]
  },
  {
   "cell_type": "code",
   "execution_count": null,
   "id": "32417cfa-4600-4f85-a6dd-014c5d9e49d1",
   "metadata": {
    "tags": []
   },
   "outputs": [],
   "source": [
    "#concatenate the new_df containing the boolean values for features with the new boolean df containing the values for activities\n",
    "trail_data_separate_activities_features = pd.concat([new_df, trail_data_boolean_activities], axis = 1)\n",
    "trail_data_separate_activities_features.head()"
   ]
  },
  {
   "cell_type": "code",
   "execution_count": null,
   "id": "fc0717e5-b6c9-4cfa-8b71-171b047c35d8",
   "metadata": {
    "tags": []
   },
   "outputs": [],
   "source": [
    "activities_features_df = pd.concat([trail_data_boolean_features, trail_data_boolean_activities], axis = 1)"
   ]
  },
  {
   "cell_type": "code",
   "execution_count": null,
   "id": "63c9c824-4ea4-4967-ac59-8beff334e7d2",
   "metadata": {},
   "outputs": [],
   "source": [
    "# Convert boolean values to ones and zeros one=True\n",
    "activities_features_df = activities_features_df.astype(int)\n",
    "activities_features_df"
   ]
  },
  {
   "cell_type": "code",
   "execution_count": null,
   "id": "2124585c-5752-4ea6-80ac-3a2091825a6c",
   "metadata": {
    "tags": []
   },
   "outputs": [],
   "source": [
    "trail_data = pd.concat([trail_data, activities_features_df], axis = 1)\n",
    "trail_data.head()"
   ]
  },
  {
   "cell_type": "markdown",
   "id": "87729c8b-ed9c-40f9-a25c-74a9b1d2baed",
   "metadata": {},
   "source": [
    "# Adam- New Column with url for all trails with hyphenated state and trail name"
   ]
  },
  {
   "cell_type": "code",
   "execution_count": null,
   "id": "0a19a302",
   "metadata": {
    "tags": []
   },
   "outputs": [],
   "source": [
    "# Create new column for hyphenated trail name\n",
    "trail_data['update_name'] = trail_data['name']\n",
    "\n",
    "# Replace spaces with hyphens \n",
    "trail_data.update_name = trail_data.update_name.str.replace(' ','-')\n",
    "trail_data.head()"
   ]
  },
  {
   "cell_type": "code",
   "execution_count": null,
   "id": "7c010b5a-c3e9-4403-841d-f7053788355c",
   "metadata": {
    "tags": []
   },
   "outputs": [],
   "source": [
    "# Create new column for hyphenated state name\n",
    "trail_data['update_state'] = trail_data['state_name']\n",
    "\n",
    "# Replace spaces with hyphens \n",
    "trail_data.update_state = trail_data.update_state.str.replace(' ','-')\n",
    "trail_data.head()\n"
   ]
  },
  {
   "cell_type": "code",
   "execution_count": null,
   "id": "104bf977-4155-4ad4-9a1e-77a68841339e",
   "metadata": {
    "tags": []
   },
   "outputs": [],
   "source": [
    "# Create All Trails Url\n",
    "trail_data ['trail_url'] = 'https://www.alltrails.com/trail/us' + '/' + trail_data['update_state'] + '/' + trail_data['update_name']\n",
    "trail_data.head()\n"
   ]
  },
  {
   "cell_type": "markdown",
   "id": "e3d04dec-0cbf-42c2-8133-739dcd3948d4",
   "metadata": {},
   "source": [
    "# Andrea- Remove trail id and Units columns"
   ]
  },
  {
   "cell_type": "code",
   "execution_count": null,
   "id": "9fcd3eb7-d156-4631-87d9-8b114da26675",
   "metadata": {},
   "outputs": [],
   "source": [
    "# Drop the trail_id, units, popularity, and visitor_usage columns\n",
    "trail_data = trail_data.drop(['trail_id', 'units', 'popularity', 'visitor_usage', ''], 1)"
   ]
  },
  {
   "cell_type": "code",
   "execution_count": null,
   "id": "20bc652d-14b2-4cd5-a9f7-63ca663034ff",
   "metadata": {
    "tags": []
   },
   "outputs": [],
   "source": [
    "# review data frame\n",
    "trail_data.head()"
   ]
  },
  {
   "cell_type": "markdown",
   "id": "2a04fd9b-61b2-49b0-bba6-117be27cb494",
   "metadata": {},
   "source": [
    "# Sara- Research the geolocation columns, popularity column, and visitor usage."
   ]
  },
  {
   "cell_type": "code",
   "execution_count": null,
   "id": "ff6cf302-57b9-41b9-ac88-125d64ce587b",
   "metadata": {
    "tags": []
   },
   "outputs": [],
   "source": [
    "#Split geo_loc into separate Lat and Lng columns\n",
    "trail_data [['Lat', 'Lng']] = trail_data['_geoloc'].str.split(',',expand=True)\n",
    "\n",
    "trail_data.head()"
   ]
  },
  {
   "cell_type": "code",
   "execution_count": null,
   "id": "a05f3928-8b2d-449a-bc61-8f5e1629b9b1",
   "metadata": {},
   "outputs": [],
   "source": [
    "#Remove extra characters from Lat and Lng columns\n",
    "trail_data['Lat']=trail_data['Lat'].map(lambda x: x.lstrip(\"{'lat':\"))\n",
    "trail_data['Lng']=trail_data['Lng'].map(lambda x: x.lstrip(\" 'lng':\").rstrip(\"}\"))\n",
    "\n",
    "trail_data.head()"
   ]
  },
  {
   "cell_type": "code",
   "execution_count": null,
   "id": "61f88fcf",
   "metadata": {},
   "outputs": [],
   "source": [
    "#Remove _geoloc column\n",
    "trail_data = trail_data.drop(['_geoloc'], 1)"
   ]
  },
  {
   "cell_type": "code",
   "execution_count": null,
   "id": "4fbda8d4",
   "metadata": {},
   "outputs": [],
   "source": [
    "#Change Lat and lng data type from object to integer\n",
    "trail_data[\"Lat\"]=trail_data[\"Lat\"].astype(str).astype(float)\n",
    "trail_data[\"Lng\"]=trail_data[\"Lng\"].astype(str).astype(float)\n",
    "trail_data.dtypes"
   ]
  },
  {
   "cell_type": "markdown",
   "id": "6db4941e-2282-4ef2-8f5f-8496456b0afd",
   "metadata": {},
   "source": [
    "# New Section "
   ]
  },
  {
   "cell_type": "code",
   "execution_count": null,
   "id": "6ca7aed4-9c9c-480a-95ef-61dd97c2aab4",
   "metadata": {},
   "outputs": [],
   "source": [
    "trail_data.to_csv(r\"Resources/trail_data_clean.csv\", index=False)"
   ]
  },
  {
   "cell_type": "code",
   "execution_count": null,
   "id": "8de49854-6558-492f-97f4-f329047f50ca",
   "metadata": {},
   "outputs": [],
   "source": []
  }
 ],
 "metadata": {
  "kernelspec": {
   "display_name": "PythonData",
   "language": "python",
   "name": "pythondata"
  },
  "language_info": {
   "codemirror_mode": {
    "name": "ipython",
    "version": 3
   },
   "file_extension": ".py",
   "mimetype": "text/x-python",
   "name": "python",
   "nbconvert_exporter": "python",
   "pygments_lexer": "ipython3",
   "version": "3.7.10"
  }
 },
 "nbformat": 4,
 "nbformat_minor": 5
}
