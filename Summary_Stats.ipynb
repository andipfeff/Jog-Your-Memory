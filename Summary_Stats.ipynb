{
 "cells": [
  {
   "cell_type": "code",
   "execution_count": null,
   "id": "69a41791",
   "metadata": {},
   "outputs": [],
   "source": [
    "import pandas as pd\n",
    "import numpy as np\n",
    "import matplotlib as plt"
   ]
  },
  {
   "cell_type": "code",
   "execution_count": null,
   "id": "bd50a842",
   "metadata": {},
   "outputs": [],
   "source": [
    "data_to_load = \"Resources/trail_data_clean.csv\"\n",
    "summary_trail_df = pd.read_csv(data_to_load)\n",
    "summary_trail_df.head()"
   ]
  },
  {
   "cell_type": "code",
   "execution_count": null,
   "id": "fa63259c",
   "metadata": {},
   "outputs": [],
   "source": [
    "trail_per_state = summary_trail_df.groupby(['state_name']).count()"
   ]
  },
  {
   "cell_type": "code",
   "execution_count": null,
   "id": "89642d3e",
   "metadata": {},
   "outputs": [],
   "source": [
    "trail_per_state"
   ]
  },
  {
   "cell_type": "code",
   "execution_count": null,
   "id": "5cb3e1ab",
   "metadata": {},
   "outputs": [],
   "source": [
    "trail_per_state2 = summary_trail_df.groupby(['state_name']).mean()['elevation_gain']\n",
    "trail_per_state2 "
   ]
  },
  {
   "cell_type": "code",
   "execution_count": null,
   "id": "cfc38324",
   "metadata": {},
   "outputs": [],
   "source": [
    "# Sum of meters for all trails by state\n",
    "trail_per_state3 = summary_trail_df.groupby(['state_name']).sum()['length']\n",
    "pd.options.display.float_format = '{:.2f}'.format\n",
    "trail_per_state3 "
   ]
  },
  {
   "cell_type": "code",
   "execution_count": null,
   "id": "21af15ab",
   "metadata": {},
   "outputs": [],
   "source": [
    "trail_per_state4 = summary_trail_df.groupby(['state_name']).mean()['avg_rating']\n",
    "trail_per_state4 "
   ]
  },
  {
   "cell_type": "code",
   "execution_count": null,
   "id": "ee54f212",
   "metadata": {},
   "outputs": [],
   "source": []
  }
 ],
 "metadata": {
  "kernelspec": {
   "display_name": "PythonData",
   "language": "python",
   "name": "pythondata"
  },
  "language_info": {
   "codemirror_mode": {
    "name": "ipython",
    "version": 3
   },
   "file_extension": ".py",
   "mimetype": "text/x-python",
   "name": "python",
   "nbconvert_exporter": "python",
   "pygments_lexer": "ipython3",
   "version": "3.7.10"
  }
 },
 "nbformat": 4,
 "nbformat_minor": 5
}
