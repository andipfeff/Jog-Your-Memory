{
 "cells": [
  {
   "cell_type": "code",
   "execution_count": null,
   "id": "69a41791",
   "metadata": {},
   "outputs": [],
   "source": [
    "import pandas as pd\n",
    "import numpy as np\n",
    "import matplotlib.pyplot as plt\n",
    "import statistics\n"
   ]
  },
  {
   "cell_type": "code",
   "execution_count": null,
   "id": "bd50a842",
   "metadata": {},
   "outputs": [],
   "source": [
    "data_to_load = \"Resources/trail_data_clean.csv\"\n",
    "summary_trail_df = pd.read_csv(data_to_load)\n",
    "summary_trail_df.head()"
   ]
  },
  {
   "cell_type": "code",
   "execution_count": null,
   "id": "fa63259c",
   "metadata": {},
   "outputs": [],
   "source": [
    "trail_per_state = summary_trail_df.groupby(['state_name']).count()[\"name\"]"
   ]
  },
  {
   "cell_type": "code",
   "execution_count": null,
   "id": "89642d3e",
   "metadata": {},
   "outputs": [],
   "source": [
    "trail_per_state"
   ]
  },
  {
   "cell_type": "code",
   "execution_count": null,
   "id": "5cb3e1ab",
   "metadata": {},
   "outputs": [],
   "source": [
    "trail_per_state2 = summary_trail_df.groupby(['state_name']).mean()['elevation_gain']\n",
    "trail_per_state2 "
   ]
  },
  {
   "cell_type": "code",
   "execution_count": null,
   "id": "cfc38324",
   "metadata": {},
   "outputs": [],
   "source": [
    "# Sum of meters for all trails by state\n",
    "trail_per_state3 = summary_trail_df.groupby(['state_name']).sum()['length']\n",
    "pd.options.display.float_format = '{:.2f}'.format\n",
    "trail_per_state3 "
   ]
  },
  {
   "cell_type": "code",
   "execution_count": null,
   "id": "21af15ab",
   "metadata": {},
   "outputs": [],
   "source": [
    "trail_per_state4 = summary_trail_df.groupby(['state_name']).mean()['avg_rating']\n",
    "trail_per_state4 "
   ]
  },
  {
   "cell_type": "code",
   "execution_count": null,
   "id": "852d37b5-dfc2-4d48-9109-15e6a9fb2647",
   "metadata": {},
   "outputs": [],
   "source": [
    "trail_per_state_reviews = summary_trail_df.groupby(['state_name']).sum()['num_reviews']\n",
    "trail_per_state_reviews"
   ]
  },
  {
   "cell_type": "code",
   "execution_count": null,
   "id": "23972599-9b01-4000-8339-1bcacfa2ed96",
   "metadata": {},
   "outputs": [],
   "source": [
    "#Average length by state\n",
    "trail_per_state5 = summary_trail_df.groupby(['state_name']).mean()['length']"
   ]
  },
  {
   "cell_type": "code",
   "execution_count": null,
   "id": "4cadc506-e0db-4a16-860d-94f7f20edcf5",
   "metadata": {},
   "outputs": [],
   "source": [
    "state_df = pd.DataFrame({\n",
    "    \"Total Trails\": trail_per_state,\n",
    "    \"Total Meters of Trails\":trail_per_state3,\n",
    "    \"Avg Trail Length\":trail_per_state5,\n",
    "    \"Avg Elevation Gain\":trail_per_state2,\n",
    "    \"Total Number of Reviews\":trail_per_state_reviews,\n",
    "    \"Avg Rating\":trail_per_state4\n",
    "})\n",
    "state_df"
   ]
  },
  {
   "cell_type": "code",
   "execution_count": null,
   "id": "a8b07517-642e-41a0-806c-db9985af5711",
   "metadata": {},
   "outputs": [],
   "source": [
    "state_df2 = state_df.sort_values(\"Total Trails\")"
   ]
  },
  {
   "cell_type": "code",
   "execution_count": null,
   "id": "9ed50340-4316-4de2-ae9d-31d1bee14a93",
   "metadata": {},
   "outputs": [],
   "source": [
    "import numpy as np\n",
    "y_axis = state_df2[\"Total Trails\"]\n",
    "x_axis = state_df2.index\n",
    "plt.bar(x_axis,y_axis)\n",
    "plt.gca().invert_yaxis\n",
    "plt.xticks(rotation = 90)\n",
    "plt.title(\"Number of Trails per State\")"
   ]
  },
  {
   "cell_type": "code",
   "execution_count": null,
   "id": "90ffc63d-9e04-49c5-bfb1-732b2550729e",
   "metadata": {},
   "outputs": [],
   "source": [
    "x_axis = state_df[\"Total Trails\"]\n",
    "y_axis = state_df.index\n",
    "plt.scatter(x_axis,y_axis,s = (state_df[\"Total Meters of Trails\"])/10000)\n",
    "plt.gca().invert_yaxis\n",
    "plt.xticks(rotation = 90)\n",
    "plt.xlabel = \"Total Trails\"\n",
    "alpha= .2"
   ]
  },
  {
   "cell_type": "code",
   "execution_count": null,
   "id": "ee54f212",
   "metadata": {},
   "outputs": [],
   "source": [
    "#Avg_ratings\n",
    "summary_trail_df[\"avg_rating\"].describe()\n",
    "\n",
    "#Results: average rating of 4.2 out of 5 stars and quartiles 4.0-5.0 will make it difficult\n",
    "# to differentiate trails based on avg_rating alone."
   ]
  },
  {
   "cell_type": "code",
   "execution_count": null,
   "id": "6e481e8d",
   "metadata": {},
   "outputs": [],
   "source": [
    "# Number of reviews\n",
    "summary_trail_df[\"num_reviews\"].describe()\n",
    "\n",
    "#Q:  What's causing some trails to have more reviews (traffic)?  \n",
    "#Features, activities, etc?"
   ]
  },
  {
   "cell_type": "code",
   "execution_count": null,
   "id": "3505c88b",
   "metadata": {},
   "outputs": [],
   "source": []
  }
 ],
 "metadata": {
  "kernelspec": {
   "display_name": "PythonData",
   "language": "python",
   "name": "pythondata"
  },
  "language_info": {
   "codemirror_mode": {
    "name": "ipython",
    "version": 3
   },
   "file_extension": ".py",
   "mimetype": "text/x-python",
   "name": "python",
   "nbconvert_exporter": "python",
   "pygments_lexer": "ipython3",
   "version": "3.7.10"
  }
 },
 "nbformat": 4,
 "nbformat_minor": 5
}
