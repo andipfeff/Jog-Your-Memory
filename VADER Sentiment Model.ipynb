{
 "cells": [
  {
   "cell_type": "code",
   "execution_count": null,
   "id": "6b7e2809",
   "metadata": {},
   "outputs": [],
   "source": [
    "#Import the SentimentIntensityAnalyzer\n",
    "from vaderSentiment.vaderSentiment import SentimentIntensityAnalyzer\n",
    "import pandas as pd"
   ]
  },
  {
   "cell_type": "code",
   "execution_count": null,
   "id": "94729284",
   "metadata": {},
   "outputs": [],
   "source": [
    "#Create the variable to hold the VADER lexicon object\n",
    "obj = SentimentIntensityAnalyzer()"
   ]
  },
  {
   "cell_type": "markdown",
   "id": "7e45cd10",
   "metadata": {},
   "source": [
    "PRACTICE"
   ]
  },
  {
   "cell_type": "code",
   "execution_count": null,
   "id": "58d6c581",
   "metadata": {},
   "outputs": [],
   "source": [
    "#Create list with review\n",
    "trail_reviews = ['Dirty. This place has been ruined by people with no respect for nature. Diapers and femine hygiene products left everywhere.Super crowded. Skip and go elsewhere.']"
   ]
  },
  {
   "cell_type": "code",
   "execution_count": null,
   "id": "30f77a23",
   "metadata": {},
   "outputs": [],
   "source": [
    "#Print the score followed by the review\n",
    "#Use for loop if there are multiple reviews in the list\n",
    "for review in trail_reviews:\n",
    "    scores = obj.polarity_scores(review)\n",
    "    print(scores['compound'],':',review)"
   ]
  },
  {
   "cell_type": "markdown",
   "id": "71335b6b",
   "metadata": {},
   "source": [
    "TRAIL REVIEWS"
   ]
  },
  {
   "cell_type": "code",
   "execution_count": null,
   "id": "3f008c09",
   "metadata": {},
   "outputs": [],
   "source": [
    "#Load reviews dataset UPDATE WITH FILE PATH AND NAME\n",
    "trail_reviews_df = pd.read_csv('Resources/TripAdvisor_Reviews.csv')\n",
    "trail_reviews_df"
   ]
  },
  {
   "cell_type": "code",
   "execution_count": null,
   "id": "8a394f92",
   "metadata": {},
   "outputs": [],
   "source": [
    "#Remove aposthrophes from Reviews\n",
    "trail_reviews_df[\"Review\"].str.replace(\"'\",\"\")"
   ]
  },
  {
   "cell_type": "markdown",
   "id": "ae952239",
   "metadata": {},
   "source": [
    "## Reviews by Trail"
   ]
  },
  {
   "cell_type": "code",
   "execution_count": null,
   "id": "7212dc22",
   "metadata": {},
   "outputs": [],
   "source": [
    "#Group reviews in one row per trail\n",
    "reviews_by_trail_df = trail_reviews_df.groupby('Trail Name')['Review'].apply(''.join).reset_index()\n",
    "\n",
    "reviews_by_trail_df"
   ]
  },
  {
   "cell_type": "code",
   "execution_count": null,
   "id": "e3b9d302",
   "metadata": {},
   "outputs": [],
   "source": [
    "#Generate Sentiment scores\n",
    "#Assume the review is stored in \"Review\" column\n",
    "reviews_by_trail_df['scores']=reviews_by_trail_df['Review'].apply(lambda trail_overview: obj.polarity_scores(str(trail_overview)))"
   ]
  },
  {
   "cell_type": "code",
   "execution_count": null,
   "id": "30841745",
   "metadata": {},
   "outputs": [],
   "source": [
    "#Create column for compound score\n",
    "reviews_by_trail_df['compound'] = reviews_by_trail_df['scores'].apply(lambda score_dict: score_dict['compound'])\n",
    "\n",
    "#Create column for RF Model (1 = overall postive, 0 = overall negative)\n",
    "reviews_by_trail_df['RF_Sentiment']=''\n",
    "reviews_by_trail_df.loc[reviews_by_trail_df.compound>=0,'RF_Sentiment']=1\n",
    "reviews_by_trail_df.loc[reviews_by_trail_df.compound<0,'RF_Sentiment']=0\n",
    "\n",
    "reviews_by_trail_df"
   ]
  },
  {
   "cell_type": "code",
   "execution_count": null,
   "id": "21a36fc5",
   "metadata": {
    "scrolled": true
   },
   "outputs": [],
   "source": [
    "reviews_by_trail_df[\"RF_Sentiment\"].value_counts()"
   ]
  },
  {
   "cell_type": "markdown",
   "id": "5dfaec72",
   "metadata": {},
   "source": [
    "## Score each review and calculate mean compound score for each trail"
   ]
  },
  {
   "cell_type": "code",
   "execution_count": null,
   "id": "e654dfbf",
   "metadata": {},
   "outputs": [],
   "source": [
    "#Generate Sentiment scores\n",
    "trail_reviews_df['scores']=trail_reviews_df['Review'].apply(lambda trail_overview: obj.polarity_scores(str(trail_overview)))"
   ]
  },
  {
   "cell_type": "code",
   "execution_count": null,
   "id": "b17ed7a8",
   "metadata": {},
   "outputs": [],
   "source": [
    "#Create column for compound score\n",
    "trail_reviews_df['compound'] = trail_reviews_df['scores'].apply(lambda score_dict: score_dict['compound'])\n",
    "\n",
    "#Create column for RF Model (1 = overall postive, 0 = overall negative)\n",
    "trail_reviews_df['RF_Sentiment']=''\n",
    "trail_reviews_df.loc[trail_reviews_df.compound>0.75,'RF_Sentiment']=1\n",
    "trail_reviews_df.loc[trail_reviews_df.compound<=0.75,'RF_Sentiment']=0\n",
    "\n",
    "trail_reviews_df"
   ]
  },
  {
   "cell_type": "code",
   "execution_count": null,
   "id": "8f64cba9",
   "metadata": {},
   "outputs": [],
   "source": [
    "trail_reviews_df[\"RF_Sentiment\"].value_counts()"
   ]
  },
  {
   "cell_type": "code",
   "execution_count": null,
   "id": "f054e93f",
   "metadata": {},
   "outputs": [],
   "source": [
    "#Group trail rows and calculate the trail's average compound score\n",
    "review_summary = pd.DataFrame(trail_reviews_df.groupby('Trail Name')[\"compound\",].mean())\n",
    "\n",
    "#Create column for RF Model (1 = overall postive, 0 = overall negative)\n",
    "review_summary['RF_Sentiment']=''\n",
    "review_summary.loc[review_summary.compound>0.75,'RF_Sentiment']=1\n",
    "review_summary.loc[review_summary.compound<=0.75,'RF_Sentiment']=0\n",
    "\n",
    "\n",
    "review_summary"
   ]
  },
  {
   "cell_type": "code",
   "execution_count": null,
   "id": "91d0ae4b",
   "metadata": {},
   "outputs": [],
   "source": [
    "review_summary.to_csv(r\"Resources/TripAdvisor_Reviews_VADER.csv\", index=True)"
   ]
  },
  {
   "cell_type": "code",
   "execution_count": null,
   "id": "85e49db9",
   "metadata": {},
   "outputs": [],
   "source": []
  }
 ],
 "metadata": {
  "kernelspec": {
   "display_name": "mlenv",
   "language": "python",
   "name": "mlenv"
  },
  "language_info": {
   "codemirror_mode": {
    "name": "ipython",
    "version": 3
   },
   "file_extension": ".py",
   "mimetype": "text/x-python",
   "name": "python",
   "nbconvert_exporter": "python",
   "pygments_lexer": "ipython3",
   "version": "3.7.11"
  }
 },
 "nbformat": 4,
 "nbformat_minor": 5
}
