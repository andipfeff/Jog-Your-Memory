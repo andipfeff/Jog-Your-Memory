{
 "cells": [
  {
   "cell_type": "code",
   "execution_count": null,
   "id": "6b7e2809",
   "metadata": {},
   "outputs": [],
   "source": [
    "#Import the SentimentIntensityAnalyzer\n",
    "from vaderSentiment.vaderSentiment import SentimentIntensityAnalyzer"
   ]
  },
  {
   "cell_type": "code",
   "execution_count": null,
   "id": "94729284",
   "metadata": {},
   "outputs": [],
   "source": [
    "#Create the variable to hold the VADER lexicon object\n",
    "obj = SentimentIntensityAnalyzer()"
   ]
  },
  {
   "cell_type": "markdown",
   "id": "7e45cd10",
   "metadata": {},
   "source": [
    "PRACTICE"
   ]
  },
  {
   "cell_type": "code",
   "execution_count": null,
   "id": "58d6c581",
   "metadata": {},
   "outputs": [],
   "source": [
    "#Create list with review\n",
    "trail_reviews = ['Love this trail. Easy enough for my younger son with so many different things to see and keep my older kids enthused! Nicely mowed trails, well taken care of. Can’t wait to go back!',\n",
    "                'Nice wide trail with some moderate elevation change. Trail is pretty muddy most of the way but easy to stay out of it by walking along the edge of the trail. Normal for Spring. We ended up getting to a scenic overlook platform but then decided to scramble down the hill to reconnect with the main trail.',\n",
    "                'Trail was really mucky in spots. And the AllTrails map was not very accurate.'\n",
    "                ]"
   ]
  },
  {
   "cell_type": "code",
   "execution_count": null,
   "id": "30f77a23",
   "metadata": {},
   "outputs": [],
   "source": [
    "#Print the score followed by the review\n",
    "#Use for loop if there are multiple reviews in the list\n",
    "for review in trail_reviews:\n",
    "    scores = obj.polarity_scores(review)\n",
    "    print(scores['compound'],':',review)"
   ]
  },
  {
   "cell_type": "markdown",
   "id": "71335b6b",
   "metadata": {},
   "source": [
    "TRAIL REVIEWS"
   ]
  },
  {
   "cell_type": "code",
   "execution_count": null,
   "id": "3f008c09",
   "metadata": {},
   "outputs": [],
   "source": [
    "#Load reviews dataset UPDATE WITH FILE PATH AND NAME\n",
    "trail_reviews_df = pd.read_csv('filepath.csv')\n",
    "trail_reviews_df.head()"
   ]
  },
  {
   "cell_type": "code",
   "execution_count": null,
   "id": "e3b9d302",
   "metadata": {},
   "outputs": [],
   "source": [
    "#Generate Sentiment scores\n",
    "#Assume the review is stored in \"Review\" column\n",
    "trail_reviews_df[\"Scores\"]=trail_reviews_df[\"Review\"].apply(lambda trial_overview: obj.polarity_scores(str(trail_overview)))"
   ]
  },
  {
   "cell_type": "code",
   "execution_count": null,
   "id": "30841745",
   "metadata": {},
   "outputs": [],
   "source": [
    "#Create column for compound score\n",
    "trail_reviews_df['compound'] = trail_reviews_df['scores'].apply(lambda score_dict: score_dict['compound'])"
   ]
  }
 ],
 "metadata": {
  "kernelspec": {
   "display_name": "mlenv",
   "language": "python",
   "name": "mlenv"
  },
  "language_info": {
   "codemirror_mode": {
    "name": "ipython",
    "version": 3
   },
   "file_extension": ".py",
   "mimetype": "text/x-python",
   "name": "python",
   "nbconvert_exporter": "python",
   "pygments_lexer": "ipython3",
   "version": "3.7.11"
  }
 },
 "nbformat": 4,
 "nbformat_minor": 5
}
