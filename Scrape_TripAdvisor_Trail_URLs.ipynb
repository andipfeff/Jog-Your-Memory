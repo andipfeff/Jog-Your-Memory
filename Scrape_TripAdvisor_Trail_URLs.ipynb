{
 "cells": [
  {
   "cell_type": "markdown",
   "id": "583e149c",
   "metadata": {},
   "source": [
    "# Import Dependencies"
   ]
  },
  {
   "cell_type": "code",
   "execution_count": null,
   "id": "faae122c",
   "metadata": {},
   "outputs": [],
   "source": [
    "from splinter import Browser\n",
    "from bs4 import BeautifulSoup as soup\n",
    "from webdriver_manager.chrome import ChromeDriverManager\n",
    "import pandas as pd\n",
    "from random import randint\n",
    "from time import sleep\n",
    "import time"
   ]
  },
  {
   "cell_type": "markdown",
   "id": "300d8141",
   "metadata": {},
   "source": [
    "# Import data and prepare for use in scraping"
   ]
  },
  {
   "cell_type": "code",
   "execution_count": null,
   "id": "4ddbc63f",
   "metadata": {
    "scrolled": true
   },
   "outputs": [],
   "source": [
    "#Load csv file into dataframe\n",
    "data_to_load = \"Resources/trail_data_clean.csv\"\n",
    "AllTrails_Data = pd.read_csv(data_to_load)\n",
    "AllTrails_Data.head()"
   ]
  },
  {
   "cell_type": "code",
   "execution_count": null,
   "id": "7b9722c4",
   "metadata": {},
   "outputs": [],
   "source": [
    "# Make a list out of the original Trail Names to use as a for loop ticker during scraping\n",
    "Trails_List = AllTrails_Data['name'].to_list()\n",
    "print(Trails_List)"
   ]
  },
  {
   "cell_type": "code",
   "execution_count": null,
   "id": "a75e9368",
   "metadata": {},
   "outputs": [],
   "source": [
    "# Create a list to hold the direct page url\n",
    "direct_url = []"
   ]
  },
  {
   "cell_type": "markdown",
   "id": "4bd2fe51",
   "metadata": {},
   "source": [
    "# Scrape Trip Advisor Trail URLs"
   ]
  },
  {
   "cell_type": "code",
   "execution_count": null,
   "id": "ab38955d",
   "metadata": {
    "scrolled": false
   },
   "outputs": [],
   "source": [
    "# Set up Splinter\n",
    "executable_path = {'executable_path': ChromeDriverManager().install()}\n",
    "browser = Browser('chrome', **executable_path, headless=False)"
   ]
  },
  {
   "cell_type": "code",
   "execution_count": null,
   "id": "576a91b3",
   "metadata": {},
   "outputs": [],
   "source": [
    "# Loop the list of trails through search and grab the URL\n",
    "for x in Trails_List:\n",
    "    \n",
    "    # Visit the trip advisor site\n",
    "    url = 'https://www.tripadvisor.com/Tourism-g191-United_States-Vacations.html'\n",
    "    browser.visit(url)\n",
    "    \n",
    "    # Optional delay for loading the page\n",
    "    browser.is_element_present_by_css('div.list_text', wait_time=1)\n",
    "    \n",
    "    # Parse the HTML\n",
    "    html = browser.html\n",
    "    html_soup = soup(html, 'html.parser')\n",
    "    \n",
    "    # Search for trail\n",
    "    search_bar = browser.find_by_tag('input')\n",
    "    search_bar.fill(x)\n",
    "    \n",
    "    # click the search button\n",
    "    browser.click_link_by_partial_href('Search?q=')\n",
    "    time.sleep(1)\n",
    "        \n",
    "    try:\n",
    "        # click on first result in search results\n",
    "        browser.find_by_css('div.result-title').first.click()\n",
    "        browser.windows.current.close()\n",
    "        \n",
    "        #Grab the page URL \n",
    "        page_url = browser.url\n",
    "        # print(page_url)\n",
    "        \n",
    "        # Create URL Dictionary\n",
    "        url_dict = {\n",
    "            'Direct_URL':page_url\n",
    "        }\n",
    "        \n",
    "        # Add url to List\n",
    "        direct_url.append(url_dict)\n",
    "\n",
    "    except:\n",
    "        print(x)\n",
    "        \n",
    "browser.quit()"
   ]
  },
  {
   "cell_type": "code",
   "execution_count": null,
   "id": "a5f45c54",
   "metadata": {},
   "outputs": [],
   "source": [
    "# Create Data Frame from List\n",
    "Direct_URL_df = pd.DataFrame(direct_url, columns=['Direct_URL'])\n",
    "Direct_URL_df"
   ]
  },
  {
   "cell_type": "code",
   "execution_count": null,
   "id": "881b6203",
   "metadata": {},
   "outputs": [],
   "source": [
    "# Save URL Data Frame to a CSV file\n",
    "Direct_URL_df.to_csv(r\"Resources/TripAdvisor_NatPark_Scraped_URLs.csv\", index=False)"
   ]
  }
 ],
 "metadata": {
  "kernelspec": {
   "display_name": "PythonData",
   "language": "python",
   "name": "pythondata"
  },
  "language_info": {
   "codemirror_mode": {
    "name": "ipython",
    "version": 3
   },
   "file_extension": ".py",
   "mimetype": "text/x-python",
   "name": "python",
   "nbconvert_exporter": "python",
   "pygments_lexer": "ipython3",
   "version": "3.7.10"
  }
 },
 "nbformat": 4,
 "nbformat_minor": 5
}
