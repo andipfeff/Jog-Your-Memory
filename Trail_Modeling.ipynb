{
 "cells": [
  {
   "cell_type": "code",
   "execution_count": null,
   "id": "2fbf03cf",
   "metadata": {},
   "outputs": [],
   "source": [
    "#load dependencies\n",
    "# Initial imports.\n",
    "import pandas as pd\n",
    "import numpy as np\n",
    "from path import Path\n",
    "from sklearn.ensemble import RandomForestClassifier\n",
    "from sklearn.preprocessing import StandardScaler\n",
    "from sklearn.model_selection import train_test_split\n",
    "from sklearn.metrics import confusion_matrix, accuracy_score, classification_report"
   ]
  },
  {
   "cell_type": "code",
   "execution_count": null,
   "id": "77023701",
   "metadata": {},
   "outputs": [],
   "source": [
    "#Load the data set into a modeling DataFrame\n",
    "file_path = \"Resources/trail_data_clean.csv\"\n",
    "trail_data_df = pd.read_csv(file_path)\n",
    "trail_data_df.head()"
   ]
  },
  {
   "cell_type": "code",
   "execution_count": null,
   "id": "5fd8a4e9",
   "metadata": {},
   "outputs": [],
   "source": [
    "#Convert route_type into numerical values\n",
    "trail_data_encoded = pd.get_dummies(trail_data_df, columns=[\"route_type\"])\n",
    "trail_data_encoded"
   ]
  },
  {
   "cell_type": "code",
   "execution_count": null,
   "id": "046c9632",
   "metadata": {},
   "outputs": [],
   "source": [
    "#Drop unnessary columns for ML modeling\n",
    "trail_data_encoded.drop(columns=[\"name\",\n",
    "                                 \"area_name\",\n",
    "                                \"city_name\",\n",
    "                                \"state_name\",\n",
    "                                \"country_name\",\n",
    "                                \"features\",\n",
    "                                \"activities\",\n",
    "                                \"update_name\",\n",
    "                                \"update_state\",\n",
    "                                \"trail_url\",\n",
    "                                \"Lat\",\n",
    "                                \"Lng\"], inplace=True)\n",
    "trail_data_encoded.head()"
   ]
  },
  {
   "cell_type": "code",
   "execution_count": null,
   "id": "e2e2b0f6",
   "metadata": {},
   "outputs": [],
   "source": []
  },
  {
   "cell_type": "code",
   "execution_count": null,
   "id": "0c0f37da",
   "metadata": {},
   "outputs": [],
   "source": [
    "#Define the target set (AVG_RATING FOR NOW)\n",
    "y = trail_data_encoded[\"avg_rating\"]"
   ]
  },
  {
   "cell_type": "code",
   "execution_count": null,
   "id": "4c7a104e",
   "metadata": {},
   "outputs": [],
   "source": [
    "#Define the features set\n",
    "X = trail_data_encoded.drop(columns=\"avg_rating\")"
   ]
  },
  {
   "cell_type": "code",
   "execution_count": null,
   "id": "36adcbf7",
   "metadata": {},
   "outputs": [],
   "source": [
    "#Split into Train and Test sets\n",
    "X_train, X_test, y_train, y_test = train_test_split(X,y,random_state = 78)"
   ]
  },
  {
   "cell_type": "code",
   "execution_count": null,
   "id": "3f7af422",
   "metadata": {},
   "outputs": [],
   "source": [
    "#Scale and Normalize the data\n",
    "\n",
    "#Create an instance of StandardScaler\n",
    "scaler = StandardScaler()\n",
    "\n",
    "#Fit the StandardScale with the training data\n",
    "X_scaler = scaler.fit(X_train)\n",
    "\n",
    "#Scale the data\n",
    "X_train_scaled = X_scaler.transform(X_train)\n",
    "X_test_scaled = X_scaler.transform(X_test)"
   ]
  },
  {
   "cell_type": "code",
   "execution_count": null,
   "id": "65274964",
   "metadata": {},
   "outputs": [],
   "source": [
    "#Create a random forest classifier\n",
    "trail_rf_model = RandomForestClassifier(n_estimators = 128, random_state=78)"
   ]
  },
  {
   "cell_type": "code",
   "execution_count": null,
   "id": "1a430503",
   "metadata": {},
   "outputs": [],
   "source": [
    "#Fit the model\n",
    "trail_rf_model = trail_rf_model.fit(X_train_scaled,y_train)"
   ]
  },
  {
   "cell_type": "code",
   "execution_count": null,
   "id": "3f433592",
   "metadata": {},
   "outputs": [],
   "source": [
    "#Make predictions using the testing data\n",
    "predictions = trail_rf_model.predict(X_test_scaled)"
   ]
  },
  {
   "cell_type": "code",
   "execution_count": null,
   "id": "e7dc6229",
   "metadata": {},
   "outputs": [],
   "source": [
    "#Evaluate the model\n",
    "#Calculate the accuracy score\n",
    "acc_score = accuracy_score(y_test, predictions)"
   ]
  },
  {
   "cell_type": "code",
   "execution_count": null,
   "id": "2bd94863",
   "metadata": {},
   "outputs": [],
   "source": [
    "#Calculate the confusion matrix\n",
    "cm = confusion_matrix(y_test, predictions)\n",
    "\n",
    "#Create DataFrame from confusion matrix\n",
    "cm_df = pd.DataFrame(cm, index=[\"Actual 0\", \"Actual 1\", columns=[\"Predicted 0\", \"Predicted 1\"]])"
   ]
  },
  {
   "cell_type": "code",
   "execution_count": null,
   "id": "5adacf80",
   "metadata": {},
   "outputs": [],
   "source": [
    "#Display model results\n",
    "print(\"Confusion Matrix\")\n",
    "display(cm_df)\n",
    "print(f\"Accuracy Score:{acc_score}\"\")\n",
    "print(\"Classification Report\")\n",
    "print(classificaion_report(y_test,predictions))"
   ]
  },
  {
   "cell_type": "code",
   "execution_count": null,
   "id": "af250113",
   "metadata": {},
   "outputs": [],
   "source": [
    "#Rank the Importance of Features\n",
    "sorted(zip(trail_rf_model.feature_importances_,X.columns),reverse=True)"
   ]
  }
 ],
 "metadata": {
  "kernelspec": {
   "display_name": "mlenv",
   "language": "python",
   "name": "mlenv"
  },
  "language_info": {
   "codemirror_mode": {
    "name": "ipython",
    "version": 3
   },
   "file_extension": ".py",
   "mimetype": "text/x-python",
   "name": "python",
   "nbconvert_exporter": "python",
   "pygments_lexer": "ipython3",
   "version": "3.7.11"
  }
 },
 "nbformat": 4,
 "nbformat_minor": 5
}
