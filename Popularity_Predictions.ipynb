{
 "cells": [
  {
   "cell_type": "code",
   "execution_count": null,
   "id": "801f24a8",
   "metadata": {},
   "outputs": [],
   "source": [
    "#load dependencies\n",
    "import os\n",
    "import joblib\n",
    "import pandas as pd\n",
    "import numpy as np\n",
    "from path import Path\n",
    "from sklearn.ensemble import RandomForestClassifier\n",
    "from sklearn.preprocessing import StandardScaler\n",
    "from sklearn.model_selection import train_test_split\n",
    "from sklearn.metrics import confusion_matrix, accuracy_score, classification_report"
   ]
  },
  {
   "cell_type": "code",
   "execution_count": null,
   "id": "d9cb4c05",
   "metadata": {},
   "outputs": [],
   "source": [
    "#Load the cleaned data set\n",
    "file_path = \"Resources/trail_data_clean.csv\"\n",
    "trail_data_df = pd.read_csv(file_path)\n",
    "\n",
    "trail_data_df.head()"
   ]
  },
  {
   "cell_type": "code",
   "execution_count": null,
   "id": "fdc337b7",
   "metadata": {},
   "outputs": [],
   "source": [
    "# Create copy of DataFrame for prediction\n",
    "predict_df = trail_data_df.copy()\n",
    "predict_df"
   ]
  },
  {
   "cell_type": "code",
   "execution_count": null,
   "id": "28388bf4",
   "metadata": {},
   "outputs": [],
   "source": [
    "#Convert route_type into numerical values\n",
    "trail_data_encoded = pd.get_dummies(predict_df, columns=[\"route_type\"])\n",
    "trail_data_encoded"
   ]
  },
  {
   "cell_type": "code",
   "execution_count": null,
   "id": "3430cb32",
   "metadata": {},
   "outputs": [],
   "source": [
    "#change from float to rounded integer - RF cannot use decimals\n",
    "#trail_data_encoded[\"avg_rating\"]=round(trail_data_encoded[\"avg_rating\"]).astype(int)\n",
    "trail_data_encoded[\"length\"]=round(trail_data_encoded[\"length\"]).astype(int)\n",
    "trail_data_encoded[\"elevation_gain\"]=round(trail_data_encoded[\"elevation_gain\"]).astype(int)\n",
    "#trail_data_encoded[\"Popularity\"]=trail_data_encoded[\"Popularity\"].astype(int)"
   ]
  },
  {
   "cell_type": "code",
   "execution_count": null,
   "id": "59fa5a6c",
   "metadata": {},
   "outputs": [],
   "source": [
    "#Drop unnessary columns for ML modeling\n",
    "X = trail_data_encoded.drop(columns=[\"name\",\n",
    "                                 \"area_name\",\n",
    "                                \"city_name\",\n",
    "                                \"state_name\",\n",
    "                                \"country_name\",\n",
    "                                \"features\",\n",
    "                                \"activities\",\n",
    "                                \"update_name\",\n",
    "                                \"update_state\",\n",
    "                                \"trail_url\",\n",
    "                                \"Lat\",\n",
    "                                \"Lng\",\n",
    "                                \"avg_rating\",\n",
    "                                 \"num_reviews\",\n",
    "                                 \"surfing\",\n",
    "                                 \"rails-trails.1\",\n",
    "                                 \"rails-trails\",\n",
    "                                 \"city-walk\"\n",
    "                                ], inplace=True)\n",
    "trail_data_encoded.head()"
   ]
  },
  {
   "cell_type": "code",
   "execution_count": null,
   "id": "eda40975",
   "metadata": {},
   "outputs": [],
   "source": [
    "#Scale and normalize the data\n",
    "data_scaler = StandardScaler()\n",
    "\n",
    "#Train the scaler and transform the data\n",
    "trail_data_scaled = data_scaler.fit_transform(trail_data_encoded)\n",
    "\n",
    "trail_data_scaled"
   ]
  },
  {
   "cell_type": "code",
   "execution_count": null,
   "id": "02b20691",
   "metadata": {},
   "outputs": [],
   "source": [
    "#Load in RF model\n",
    "loaded_rf = joblib.load(\"random_forest.joblib\")"
   ]
  },
  {
   "cell_type": "code",
   "execution_count": null,
   "id": "8a3d259d",
   "metadata": {},
   "outputs": [],
   "source": [
    "#Run prediction\n",
    "#pop_predict = loaded_rf.predict(trail_data_encoded)\n",
    "pop_predict = loaded_rf.predict(trail_data_scaled)"
   ]
  },
  {
   "cell_type": "code",
   "execution_count": null,
   "id": "e6e7ac62",
   "metadata": {},
   "outputs": [],
   "source": [
    "pop_predict[:100]"
   ]
  },
  {
   "cell_type": "code",
   "execution_count": null,
   "id": "40b05f41",
   "metadata": {},
   "outputs": [],
   "source": [
    "trail_data_df['Predicted_Popularity'] = pd.Series(pop_predict, index=trail_data_df.index)\n",
    "\n",
    "trail_data_df.tail()"
   ]
  },
  {
   "cell_type": "code",
   "execution_count": null,
   "id": "0c1db48c",
   "metadata": {},
   "outputs": [],
   "source": [
    "#Save to csv for webpage\n",
    "trail_data_df.to_csv(r\"Resources/Webpage_Summary.csv\", index=False)"
   ]
  }
 ],
 "metadata": {
  "kernelspec": {
   "display_name": "mlenv",
   "language": "python",
   "name": "mlenv"
  },
  "language_info": {
   "codemirror_mode": {
    "name": "ipython",
    "version": 3
   },
   "file_extension": ".py",
   "mimetype": "text/x-python",
   "name": "python",
   "nbconvert_exporter": "python",
   "pygments_lexer": "ipython3",
   "version": "3.7.11"
  }
 },
 "nbformat": 4,
 "nbformat_minor": 5
}
