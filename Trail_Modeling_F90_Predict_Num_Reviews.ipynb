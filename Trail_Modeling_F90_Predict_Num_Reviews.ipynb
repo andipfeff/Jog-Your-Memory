{
 "cells": [
  {
   "cell_type": "code",
   "execution_count": null,
   "id": "514bb9e4",
   "metadata": {},
   "outputs": [],
   "source": [
    "#load dependencies\n",
    "# Initial imports.\n",
    "import pandas as pd\n",
    "import numpy as np\n",
    "from path import Path\n",
    "from sklearn.ensemble import RandomForestClassifier\n",
    "from sklearn.preprocessing import StandardScaler\n",
    "from sklearn.model_selection import train_test_split\n",
    "from sklearn.metrics import confusion_matrix, accuracy_score, classification_report"
   ]
  },
  {
   "cell_type": "code",
   "execution_count": null,
   "id": "a1926c99",
   "metadata": {},
   "outputs": [],
   "source": [
    "#Load the data set into a modeling DataFrame\n",
    "file_path = \"Resources/Merged_Trail_Model_Dataset_90.csv\"\n",
    "trail_data_df = pd.read_csv(file_path, index_col=[0])\n",
    "trail_data_df.head()"
   ]
  },
  {
   "cell_type": "code",
   "execution_count": null,
   "id": "95610f5f",
   "metadata": {},
   "outputs": [],
   "source": [
    "trail_data_df[\"num_reviews\"].describe()"
   ]
  },
  {
   "cell_type": "code",
   "execution_count": null,
   "id": "9db98345",
   "metadata": {},
   "outputs": [],
   "source": [
    "trail_data_df.columns.to_list()"
   ]
  },
  {
   "cell_type": "code",
   "execution_count": null,
   "id": "cdfb2127",
   "metadata": {},
   "outputs": [],
   "source": [
    "#Convert route_type into numerical values\n",
    "trail_data_encoded = pd.get_dummies(trail_data_df, columns=[\"route_type\"])\n",
    "trail_data_encoded"
   ]
  },
  {
   "cell_type": "code",
   "execution_count": null,
   "id": "89e44adf",
   "metadata": {},
   "outputs": [],
   "source": [
    "#change from float to rounded integer - RF cannot use decimals\n",
    "#trail_data_encoded[\"avg_rating\"]=round(trail_data_encoded[\"avg_rating\"]).astype(int)\n",
    "trail_data_encoded[\"length\"]=round(trail_data_encoded[\"length\"]).astype(int)\n",
    "trail_data_encoded[\"elevation_gain\"]=round(trail_data_encoded[\"elevation_gain\"]).astype(int)"
   ]
  },
  {
   "cell_type": "code",
   "execution_count": null,
   "id": "08e290e2",
   "metadata": {},
   "outputs": [],
   "source": [
    "#Drop unnessary columns for ML modeling\n",
    "trail_data_encoded.drop(columns=[\"Trail Name\",\n",
    "                                 \"compound\",\n",
    "                                 \"name\",\n",
    "                                 \"area_name\",\n",
    "                                \"city_name\",\n",
    "                                \"state_name\",\n",
    "                                \"country_name\",\n",
    "                                \"features\",\n",
    "                                \"activities\",\n",
    "                                \"update_name\",\n",
    "                                \"update_state\",\n",
    "                                \"trail_url\",\n",
    "                                \"Lat\",\n",
    "                                \"Lng\",\n",
    "                                \"avg_rating\"\n",
    "                                ], inplace=True)\n",
    "trail_data_encoded.head()"
   ]
  },
  {
   "cell_type": "code",
   "execution_count": null,
   "id": "91965a2a",
   "metadata": {},
   "outputs": [],
   "source": [
    "trail_data_encoded.dtypes"
   ]
  },
  {
   "cell_type": "code",
   "execution_count": null,
   "id": "54abec4e",
   "metadata": {},
   "outputs": [],
   "source": [
    "# #Scale and normalize the data\n",
    "# data_scaler = StandardScaler()\n",
    "\n",
    "# #Train the scaler adn transform the data\n",
    "# trail_data_scaled = data_scaler.fit_transform(trail_data_encoded)\n",
    "\n",
    "# trail_data_scaled"
   ]
  },
  {
   "cell_type": "code",
   "execution_count": null,
   "id": "baec21b0",
   "metadata": {},
   "outputs": [],
   "source": [
    "#Define the target set (1 = positive, 0 = negative)\n",
    "y = trail_data_encoded[\"num_reviews\"]"
   ]
  },
  {
   "cell_type": "code",
   "execution_count": null,
   "id": "1fa9c864",
   "metadata": {},
   "outputs": [],
   "source": [
    "#Define the features set\n",
    "X = trail_data_encoded.drop(columns=\"num_reviews\")"
   ]
  },
  {
   "cell_type": "code",
   "execution_count": null,
   "id": "167f657d",
   "metadata": {},
   "outputs": [],
   "source": [
    "#Split into Train and Test sets\n",
    "X_train, X_test, y_train, y_test = train_test_split(X,y,random_state = 78)"
   ]
  },
  {
   "cell_type": "code",
   "execution_count": null,
   "id": "ab500b8d",
   "metadata": {},
   "outputs": [],
   "source": [
    "#Scale and Normalize the data\n",
    "\n",
    "#Create an instance of StandardScaler\n",
    "scaler = StandardScaler()\n",
    "\n",
    "#Fit the StandardScale with the training data\n",
    "X_scaler = scaler.fit(X_train)\n",
    "\n",
    "#Scale the data\n",
    "X_train_scaled = X_scaler.transform(X_train)\n",
    "X_test_scaled = X_scaler.transform(X_test)"
   ]
  },
  {
   "cell_type": "code",
   "execution_count": null,
   "id": "7cadd57a",
   "metadata": {},
   "outputs": [],
   "source": [
    "#Create a random forest classifier\n",
    "trail_rf_model = RandomForestClassifier(n_estimators = 128, random_state=78)"
   ]
  },
  {
   "cell_type": "code",
   "execution_count": null,
   "id": "9a1ef449",
   "metadata": {},
   "outputs": [],
   "source": [
    "#Fit the model\n",
    "trail_rf_model = trail_rf_model.fit(X_train_scaled, y_train)"
   ]
  },
  {
   "cell_type": "code",
   "execution_count": null,
   "id": "f0756131",
   "metadata": {},
   "outputs": [],
   "source": [
    "#Make predictions using the testing data\n",
    "predictions = trail_rf_model.predict(X_test_scaled)"
   ]
  },
  {
   "cell_type": "code",
   "execution_count": null,
   "id": "7ba60423",
   "metadata": {},
   "outputs": [],
   "source": [
    "predictions"
   ]
  },
  {
   "cell_type": "code",
   "execution_count": null,
   "id": "f00ce381",
   "metadata": {},
   "outputs": [],
   "source": [
    "#Evaluate the model\n",
    "#Calculate the accuracy score\n",
    "acc_score = accuracy_score(y_test, predictions)\n",
    "acc_score"
   ]
  },
  {
   "cell_type": "code",
   "execution_count": null,
   "id": "1e29a3e8",
   "metadata": {},
   "outputs": [],
   "source": [
    "# #Calculate the confusion matrix\n",
    "# cm = confusion_matrix(y_test, predictions)\n",
    "\n",
    "# #Create DataFrame from confusion matrix\n",
    "# cm_df = pd.DataFrame(cm, index=[\"Actual 0\", \"Actual 1\"], columns=[\"Predicted 0\", \"Predicted 1\"])"
   ]
  },
  {
   "cell_type": "code",
   "execution_count": null,
   "id": "039df586",
   "metadata": {},
   "outputs": [],
   "source": [
    "# #Display model results\n",
    "# print(\"Confusion Matrix\")\n",
    "# display(cm_df)\n",
    "# print(f\"Accuracy Score:{acc_score}\")\n",
    "# print(\"Classification Report\")\n",
    "# print(classification_report(y_test,predictions))"
   ]
  },
  {
   "cell_type": "code",
   "execution_count": null,
   "id": "84a5f0ef",
   "metadata": {},
   "outputs": [],
   "source": [
    "#Rank the Importance of Features\n",
    "sorted(zip(trail_rf_model.feature_importances_,X.columns),reverse=True)"
   ]
  },
  {
   "cell_type": "code",
   "execution_count": null,
   "id": "81c3c812",
   "metadata": {},
   "outputs": [],
   "source": []
  }
 ],
 "metadata": {
  "kernelspec": {
   "display_name": "mlenv",
   "language": "python",
   "name": "mlenv"
  },
  "language_info": {
   "codemirror_mode": {
    "name": "ipython",
    "version": 3
   },
   "file_extension": ".py",
   "mimetype": "text/x-python",
   "name": "python",
   "nbconvert_exporter": "python",
   "pygments_lexer": "ipython3",
   "version": "3.7.11"
  }
 },
 "nbformat": 4,
 "nbformat_minor": 5
}
