{
 "cells": [
  {
   "cell_type": "code",
   "execution_count": null,
   "id": "2b7a2942",
   "metadata": {},
   "outputs": [],
   "source": [
    "import pandas as pd\n",
    "from fuzzywuzzy import fuzz\n",
    "from fuzzywuzzy import process"
   ]
  },
  {
   "cell_type": "code",
   "execution_count": null,
   "id": "8dba9f84",
   "metadata": {},
   "outputs": [],
   "source": [
    "# Load trail data files\n",
    "tripadv = pd.read_csv('Resources/TripAdvisor_Reviews_VADER.csv')\n",
    "alltrails = pd.read_csv('Resources/trail_data_clean.csv')"
   ]
  },
  {
   "cell_type": "code",
   "execution_count": null,
   "id": "de84f747",
   "metadata": {},
   "outputs": [],
   "source": [
    "# Find matching trail names between tripadvisor list and alltrails list.\n",
    "#Create new coluumn in tripadvisor list with alltrails trail name.\n",
    "tripadv['name_from_alltrails'] = tripadv['Trail Name'].apply(lambda x: process.extractOne(x, alltrails['name'].to_list(),score_cutoff=90))\n",
    "name_from_alltrails_list = tripadv['name_from_alltrails'].to_list()\n",
    "name_from_alltrails_list = [_[0] if _ != None else None for _ in name_from_alltrails_list]\n",
    "tripadv['name_from_alltrails'] = name_from_alltrails_list"
   ]
  },
  {
   "cell_type": "code",
   "execution_count": null,
   "id": "98c952dc",
   "metadata": {},
   "outputs": [],
   "source": [
    "#Merge matched alltrails into tripadvisor list.\n",
    "tripadv = tripadv.merge(alltrails, left_on = 'name_from_alltrails', right_on = 'name', suffixes=('','_2'))\n",
    "\n",
    "#Drop \"name_from_alltrails\" column.\n",
    "tripadv.drop(['name_from_alltrails'],axis=1, inplace=True)"
   ]
  },
  {
   "cell_type": "code",
   "execution_count": null,
   "id": "e4a0eb42",
   "metadata": {},
   "outputs": [],
   "source": [
    "tripadv.head()"
   ]
  },
  {
   "cell_type": "code",
   "execution_count": null,
   "id": "c91c8791",
   "metadata": {},
   "outputs": [],
   "source": [
    "tripadv.to_csv(r\"Resources/Merged_Trail_Model_Dataset_90.csv\", index=True)"
   ]
  }
 ],
 "metadata": {
  "kernelspec": {
   "display_name": "mlenv",
   "language": "python",
   "name": "mlenv"
  },
  "language_info": {
   "codemirror_mode": {
    "name": "ipython",
    "version": 3
   },
   "file_extension": ".py",
   "mimetype": "text/x-python",
   "name": "python",
   "nbconvert_exporter": "python",
   "pygments_lexer": "ipython3",
   "version": "3.7.11"
  }
 },
 "nbformat": 4,
 "nbformat_minor": 5
}
